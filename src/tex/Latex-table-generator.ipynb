{
 "cells": [
  {
   "cell_type": "code",
   "execution_count": 1,
   "metadata": {
    "collapsed": true
   },
   "outputs": [],
   "source": [
    "import pandas as pd\n",
    "import numpy as np"
   ]
  },
  {
   "cell_type": "code",
   "execution_count": 11,
   "metadata": {
    "collapsed": false
   },
   "outputs": [],
   "source": [
    "# log, dtree, knn\n",
    "df_err = pd.read_csv('log_errors_best3.txt', sep='&')\n",
    "df_fms = pd.read_csv('log_fscores_best3.txt', sep='&')"
   ]
  },
  {
   "cell_type": "code",
   "execution_count": 12,
   "metadata": {
    "collapsed": false
   },
   "outputs": [],
   "source": [
    "data_sets = []\n",
    "keys = df_err.keys()\n",
    "for n, ds in enumerate(df_err[keys[0]]):\n",
    "    if n <= 29:\n",
    "        data_sets.append(ds)"
   ]
  },
  {
   "cell_type": "code",
   "execution_count": 13,
   "metadata": {
    "collapsed": false
   },
   "outputs": [],
   "source": [
    "errors = []\n",
    "fms = []\n",
    "for i in range(3, 7, 1):\n",
    "    error = []\n",
    "    for j in range(30):\n",
    "        error.append(df_err[keys[i]][j].replace(' \\\\',''))\n",
    "    errors.append(error)\n",
    "for i in range(3, 7, 1):\n",
    "    fm = []\n",
    "    for j in range(30):\n",
    "        fm.append(df_fms[keys[i]][j].replace(' \\\\',''))\n",
    "    fms.append(fm)"
   ]
  },
  {
   "cell_type": "code",
   "execution_count": 14,
   "metadata": {
    "collapsed": false
   },
   "outputs": [
    {
     "name": "stdout",
     "output_type": "stream",
     "text": [
      "blood  & \\cellcolor{red!50} 21.4 (1)  & \\cellcolor{red!20} 22 (4)  & \\cellcolor{red!40} 21.44 (2)  & \\cellcolor{red!30} 21.69 (3)\\ & \\cellcolor{red!20} 48.72 (4)  & \\cellcolor{red!50} 47.43 (1)  & \\cellcolor{red!40} 47.71 (2)  & \\cellcolor{red!30} 48.08 (3)\\ \\\\\n",
      "breast-cancer-wisc-diag  & \\cellcolor{red!50} 3.07 (1)  & \\cellcolor{red!30} 6.42 (3)  & \\cellcolor{red!40} 5.31 (2)  & \\cellcolor{red!20} 7.91 (4)\\ & \\cellcolor{red!20} 96.61 (4)  & \\cellcolor{red!30} 90.34 (3)  & \\cellcolor{red!40} 86.22 (2)  & \\cellcolor{red!50} 71.03 (1)\\ \\\\\n",
      "breast-cancer-wisc-prog  & \\cellcolor{red!50} 20.5 (1)  & \\cellcolor{red!30} 22.17 (3)  & \\cellcolor{red!20} 22.25 (4)  & \\cellcolor{red!40} 21.08 (2)\\ & \\cellcolor{red!20} 56.47 (4)  & \\cellcolor{red!40} 43.54 (2)  & \\cellcolor{red!50} 43.51 (1)  & \\cellcolor{red!30} 45.03 (3)\\ \\\\\n",
      "breast-cancer-wisc  & \\cellcolor{red!50} 5.14 (1)  & \\cellcolor{red!30} 6.19 (3)  & \\cellcolor{red!40} 5.48 (2)  & \\cellcolor{red!20} 6.43 (4)\\ & \\cellcolor{red!20} 94.15 (4)  & \\cellcolor{red!40} 92.45 (2)  & \\cellcolor{red!30} 93.67 (3)  & \\cellcolor{red!50} 78.39 (1)\\ \\\\\n",
      "breast-cancer  & \\cellcolor{red!50} 31.38 (1)  & \\cellcolor{red!30} 32.18 (3)  & \\cellcolor{red!40} 31.61 (2)  & \\cellcolor{red!20} 32.47 (4)\\ & \\cellcolor{red!20} 45.13 (4)  & \\cellcolor{red!50} 40.23 (1)  & \\cellcolor{red!30} 44.82 (3)  & \\cellcolor{red!40} 42.8 (2)\\ \\\\\n",
      "congressional-voting  & \\cellcolor{red!20} 40.34 (4)  & \\cellcolor{red!30} 39.28 (3)  & \\cellcolor{red!50} 39.02 (1)  & \\cellcolor{red!40} 39.17 (2)\\ & \\cellcolor{red!20} 41.09 (4)  & \\cellcolor{red!50} 37.71 (1.5)  & \\cellcolor{red!50} 37.71 (1.5)  & \\cellcolor{red!30} 38.15 (3)\\ \\\\\n",
      "conn-bench-sonar-mines-rocks  & \\cellcolor{red!50} 23.1 (1)  & \\cellcolor{red!20} 27.62 (4)  & \\cellcolor{red!30} 26.83 (3)  & \\cellcolor{red!40} 24.92 (2)\\ & \\cellcolor{red!20} 74.74 (4)  & \\cellcolor{red!40} 53.66 (2)  & \\cellcolor{red!30} 55.72 (3)  & \\cellcolor{red!50} 53.22 (1)\\ \\\\\n",
      "credit-approval  & \\cellcolor{red!50} 17.91 (1)  & \\cellcolor{red!20} 22.06 (4)  & \\cellcolor{red!30} 22.04 (3)  & \\cellcolor{red!40} 18.82 (2)\\ & \\cellcolor{red!20} 80.28 (4)  & \\cellcolor{red!30} 67.53 (3)  & \\cellcolor{red!40} 50.82 (2)  & \\cellcolor{red!50} 40.97 (1)\\ \\\\\n",
      "cylinder-bands  & \\cellcolor{red!50} 33.4 (1)  & \\cellcolor{red!40} 34.82 (2)  & \\cellcolor{red!20} 36.25 (4)  & \\cellcolor{red!30} 35.11 (3)\\ & \\cellcolor{red!20} 58.91 (4)  & \\cellcolor{red!40} 37.07 (2)  & \\cellcolor{red!50} 37 (1)  & \\cellcolor{red!30} 40.55 (3)\\ \\\\\n",
      "echocardiogram  & \\cellcolor{red!50} 19.26 (1)  & \\cellcolor{red!20} 25.19 (4)  & \\cellcolor{red!30} 25.06 (3)  & \\cellcolor{red!40} 23.21 (2)\\ & \\cellcolor{red!20} 71.4 (4)  & \\cellcolor{red!30} 55.79 (3)  & \\cellcolor{red!40} 50.61 (2)  & \\cellcolor{red!50} 48.07 (1)\\ \\\\\n",
      "haberman-survival  & \\cellcolor{red!20} 25.97 (4)  & \\cellcolor{red!50} 25.48 (1)  & \\cellcolor{red!40} 25.65 (2)  & \\cellcolor{red!30} 25.7 (3)\\ & \\cellcolor{red!50} 45.3 (1)  & \\cellcolor{red!20} 47.68 (4)  & \\cellcolor{red!30} 46.66 (3)  & \\cellcolor{red!40} 45.37 (2)\\ \\\\\n",
      "heart-hungarian  & \\cellcolor{red!50} 20.85 (1)  & \\cellcolor{red!20} 28.53 (4)  & \\cellcolor{red!30} 26.05 (3)  & \\cellcolor{red!40} 21.86 (2)\\ & \\cellcolor{red!20} 76.23 (4)  & \\cellcolor{red!50} 50.47 (1)  & \\cellcolor{red!30} 57.32 (3)  & \\cellcolor{red!40} 53.75 (2)\\ \\\\\n",
      "hepatitis  & \\cellcolor{red!20} 22.19 (4)  & \\cellcolor{red!30} 21.46 (3)  & \\cellcolor{red!50} 21.25 (1)  & \\cellcolor{red!40} 21.35 (2)\\ & \\cellcolor{red!20} 55.88 (4)  & \\cellcolor{red!50} 45.73 (1)  & \\cellcolor{red!40} 46.14 (2)  & \\cellcolor{red!30} 46.7 (3)\\ \\\\\n",
      "ionosphere  & \\cellcolor{red!50} 11.83 (1)  & \\cellcolor{red!30} 16.34 (3)  & \\cellcolor{red!20} 18.36 (4)  & \\cellcolor{red!40} 15.77 (2)\\ & \\cellcolor{red!20} 85.9 (4)  & \\cellcolor{red!40} 40.57 (2)  & \\cellcolor{red!50} 39.95 (1)  & \\cellcolor{red!30} 49.43 (3)\\ \\\\\n",
      "mammographic  & \\cellcolor{red!50} 17.41 (1)  & \\cellcolor{red!20} 19.52 (4)  & \\cellcolor{red!40} 19.1 (2)  & \\cellcolor{red!30} 19.43 (3)\\ & \\cellcolor{red!20} 82.28 (4)  & \\cellcolor{red!30} 79.9 (3)  & \\cellcolor{red!40} 76.39 (2)  & \\cellcolor{red!50} 67.56 (1)\\ \\\\\n",
      "molec-biol-promoter  & \\cellcolor{red!50} 24.09 (1)  & \\cellcolor{red!20} 28.33 (4)  & \\cellcolor{red!30} 26.67 (3)  & \\cellcolor{red!40} 25 (2)\\ & \\cellcolor{red!20} 75.37 (4)  & \\cellcolor{red!40} 52.12 (2)  & \\cellcolor{red!50} 51.19 (1)  & \\cellcolor{red!30} 57.99 (3)\\ \\\\\n",
      "musk-1  & \\cellcolor{red!30} 21.04 (3)  & \\cellcolor{red!40} 20.63 (2)  & \\cellcolor{red!50} 20.52 (1)  & \\cellcolor{red!20} 21.15 (4)\\ & \\cellcolor{red!20} 78 (4)  & \\cellcolor{red!30} 62.57 (3)  & \\cellcolor{red!40} 52.09 (2)  & \\cellcolor{red!50} 51.76 (1)\\ \\\\\n",
      "oocytes-merluccius-nucleus-4d  & \\cellcolor{red!50} 23.9 (1)  & \\cellcolor{red!20} 27.22 (4)  & \\cellcolor{red!30} 25.76 (3)  & \\cellcolor{red!40} 23.93 (2)\\ & \\cellcolor{red!20} 63.12 (4)  & \\cellcolor{red!40} 41.67 (2)  & \\cellcolor{red!30} 42.49 (3)  & \\cellcolor{red!50} 41.41 (1)\\ \\\\\n",
      "oocytes-trisopterus-nucleus-2f  & \\cellcolor{red!40} 27.32 (2)  & \\cellcolor{red!30} 29.56 (3)  & \\cellcolor{red!50} 27.05 (1)  & \\cellcolor{red!20} 29.73 (4)\\ & \\cellcolor{red!20} 67.71 (4)  & \\cellcolor{red!30} 42.17 (3)  & \\cellcolor{red!50} 38.55 (1)  & \\cellcolor{red!40} 41.15 (2)\\ \\\\\n",
      "ozone  & \\cellcolor{red!40} 2.68 (2.5)  & \\cellcolor{red!40} 2.68 (2.5)  & \\cellcolor{red!20} 2.79 (4)  & \\cellcolor{red!50} 2.66 (1)\\ & \\cellcolor{red!50} 49.32 (1)  & \\cellcolor{red!40} 49.32 (2.5)  & \\cellcolor{red!20} 51.02 (4)  & \\cellcolor{red!40} 49.32 (2.5)\\ \\\\\n",
      "parkinsons  & \\cellcolor{red!50} 15.5 (1)  & \\cellcolor{red!20} 21.08 (4)  & \\cellcolor{red!30} 20.96 (3)  & \\cellcolor{red!40} 19.5 (2)\\ & \\cellcolor{red!20} 76.92 (4)  & \\cellcolor{red!50} 49.43 (1)  & \\cellcolor{red!30} 51.17 (3)  & \\cellcolor{red!40} 50.87 (2)\\ \\\\\n",
      "pima  & \\cellcolor{red!40} 26.23 (2)  & \\cellcolor{red!30} 28.21 (3)  & \\cellcolor{red!20} 28.7 (4)  & \\cellcolor{red!50} 25.97 (1)\\ & \\cellcolor{red!20} 66.47 (4)  & \\cellcolor{red!30} 53.58 (3)  & \\cellcolor{red!40} 50.68 (2)  & \\cellcolor{red!50} 44.48 (1)\\ \\\\\n",
      "planning  & \\cellcolor{red!20} 28.65 (4)  & \\cellcolor{red!30} 28.11 (3)  & \\cellcolor{red!50} 27.93 (1)  & \\cellcolor{red!40} 28.02 (2)\\ & \\cellcolor{red!50} 41.55 (1)  & \\cellcolor{red!30} 41.71 (3)  & \\cellcolor{red!40} 41.63 (2)  & \\cellcolor{red!20} 41.93 (4)\\ \\\\\n",
      "ringnorm  & \\cellcolor{red!50} 23.18 (1)  & \\cellcolor{red!20} 25.59 (4)  & \\cellcolor{red!30} 23.51 (3)  & \\cellcolor{red!40} 23.2 (2)\\ & \\cellcolor{red!20} 76.48 (4)  & \\cellcolor{red!40} 62.19 (2)  & \\cellcolor{red!30} 64.13 (3)  & \\cellcolor{red!50} 56.16 (1)\\ \\\\\n",
      "spectf  & \\cellcolor{red!50} 42.35 (1)  & \\cellcolor{red!20} 48.43 (4)  & \\cellcolor{red!30} 44.31 (3)  & \\cellcolor{red!40} 43.53 (2)\\ & \\cellcolor{red!20} 54.16 (4)  & \\cellcolor{red!50} 40.45 (1)  & \\cellcolor{red!30} 49.25 (3)  & \\cellcolor{red!40} 48.15 (2)\\ \\\\\n",
      "statlog-australian-credit  & \\cellcolor{red!20} 31.15 (4)  & \\cellcolor{red!40} 31.01 (2)  & \\cellcolor{red!30} 31.12 (3)  & \\cellcolor{red!50} 30.98 (1)\\ & \\cellcolor{red!40} 40.73 (2)  & \\cellcolor{red!20} 40.78 (4)  & \\cellcolor{red!30} 40.75 (3)  & \\cellcolor{red!50} 40.73 (1)\\ \\\\\n",
      "statlog-german-credit  & \\cellcolor{red!40} 25.57 (2)  & \\cellcolor{red!20} 27.51 (4)  & \\cellcolor{red!30} 26.97 (3)  & \\cellcolor{red!50} 25.51 (1)\\ & \\cellcolor{red!20} 58.58 (4)  & \\cellcolor{red!40} 42.19 (2)  & \\cellcolor{red!50} 41.75 (1)  & \\cellcolor{red!30} 42.58 (3)\\ \\\\\n",
      "statlog-heart  & \\cellcolor{red!50} 17.64 (1)  & \\cellcolor{red!40} 21.12 (2)  & \\cellcolor{red!30} 21.85 (3)  & \\cellcolor{red!20} 22.42 (4)\\ & \\cellcolor{red!20} 80.85 (4)  & \\cellcolor{red!40} 64.11 (2)  & \\cellcolor{red!30} 68.47 (3)  & \\cellcolor{red!50} 58.9 (1)\\ \\\\\n",
      "titanic  & \\cellcolor{red!40} 23.74 (2)  & \\cellcolor{red!20} 26.36 (4)  & \\cellcolor{red!30} 24.66 (3)  & \\cellcolor{red!50} 23.63 (1)\\ & \\cellcolor{red!20} 67.03 (4)  & \\cellcolor{red!50} 57.96 (1)  & \\cellcolor{red!30} 59.08 (3)  & \\cellcolor{red!40} 58.61 (2)\\ \\\\\n",
      "vertebral-column-2clases  & \\cellcolor{red!40} 19.52 (2)  & \\cellcolor{red!30} 20.4 (3)  & \\cellcolor{red!20} 24.92 (4)  & \\cellcolor{red!50} 18.57 (1)\\ & \\cellcolor{red!20} 73.46 (4)  & \\cellcolor{red!30} 71.58 (3)  & \\cellcolor{red!50} 61.06 (1)  & \\cellcolor{red!40} 61.76 (2)\\ \\\\\n"
     ]
    }
   ],
   "source": [
    "for n in range(30): \n",
    "    line_str = data_sets[n]+' & '\n",
    "    \n",
    "    for j in range(4): \n",
    "        line_str += errors[j][n] + ' & '\n",
    "    #line_str = line_str[:-2]\n",
    "    \n",
    "    for j in range(4): \n",
    "        line_str += fms[j][n] + ' & '    \n",
    "    line_str = line_str[:-2] + '\\\\\\\\'\n",
    "    \n",
    "    print(line_str.replace('cellcolor', '\\\\cellcolor'))"
   ]
  },
  {
   "cell_type": "code",
   "execution_count": null,
   "metadata": {
    "collapsed": false
   },
   "outputs": [],
   "source": []
  },
  {
   "cell_type": "code",
   "execution_count": null,
   "metadata": {
    "collapsed": false
   },
   "outputs": [],
   "source": [
    "\n"
   ]
  },
  {
   "cell_type": "code",
   "execution_count": null,
   "metadata": {
    "collapsed": true
   },
   "outputs": [],
   "source": []
  }
 ],
 "metadata": {
  "kernelspec": {
   "display_name": "Python 3",
   "language": "python",
   "name": "python3"
  },
  "language_info": {
   "codemirror_mode": {
    "name": "ipython",
    "version": 3
   },
   "file_extension": ".py",
   "mimetype": "text/x-python",
   "name": "python",
   "nbconvert_exporter": "python",
   "pygments_lexer": "ipython3",
   "version": "3.6.0"
  }
 },
 "nbformat": 4,
 "nbformat_minor": 2
}
